{
 "cells": [
  {
   "cell_type": "code",
   "execution_count": 1,
   "metadata": {},
   "outputs": [],
   "source": [
    "import cv2\n",
    "from matplotlib import pyplot as plt\n",
    "import numpy as np\n",
    "import os"
   ]
  },
  {
   "cell_type": "code",
   "execution_count": 2,
   "metadata": {},
   "outputs": [],
   "source": [
    "sift = cv2.xfeatures2d.SIFT_create()"
   ]
  },
  {
   "cell_type": "code",
   "execution_count": 3,
   "metadata": {},
   "outputs": [],
   "source": [
    "FLANN_INDEX_KDTREE = 0\n",
    "index_params = dict(algorithm=FLANN_INDEX_KDTREE, trees=5)\n",
    "search_params = dict(checks=50)\n",
    "\n",
    "flann = cv2.FlannBasedMatcher(index_params, search_params)"
   ]
  },
  {
   "cell_type": "code",
   "execution_count": 4,
   "metadata": {},
   "outputs": [
    {
     "name": "stdout",
     "output_type": "stream",
     "text": [
      "Building cache...\n",
      "Computing 0.png (1 / 100)\n",
      "Computing 1.png (2 / 100)\n",
      "Computing 10.png (3 / 100)\n",
      "Computing 11.png (4 / 100)\n",
      "Computing 12.png (5 / 100)\n",
      "Computing 13.png (6 / 100)\n",
      "Computing 14.png (7 / 100)\n",
      "Computing 15.png (8 / 100)\n",
      "Computing 16.png (9 / 100)\n",
      "Computing 17.png (10 / 100)\n",
      "Computing 18.png (11 / 100)\n",
      "Computing 19.png (12 / 100)\n",
      "Computing 2.png (13 / 100)\n",
      "Computing 20.png (14 / 100)\n",
      "Computing 21.png (15 / 100)\n",
      "Computing 22.png (16 / 100)\n",
      "Computing 23.png (17 / 100)\n",
      "Computing 24.png (18 / 100)\n",
      "Computing 25.png (19 / 100)\n",
      "Computing 26.png (20 / 100)\n",
      "Computing 27.png (21 / 100)\n",
      "Computing 28.png (22 / 100)\n",
      "Computing 29.png (23 / 100)\n",
      "Computing 3.png (24 / 100)\n",
      "Computing 30.png (25 / 100)\n",
      "Computing 31.png (26 / 100)\n",
      "Computing 32.png (27 / 100)\n",
      "Computing 33.png (28 / 100)\n",
      "Computing 34.png (29 / 100)\n",
      "Computing 35.png (30 / 100)\n",
      "Computing 36.png (31 / 100)\n",
      "Computing 37.png (32 / 100)\n",
      "Computing 38.png (33 / 100)\n",
      "Computing 39.png (34 / 100)\n",
      "Computing 4.png (35 / 100)\n",
      "Computing 40.png (36 / 100)\n",
      "Computing 41.png (37 / 100)\n",
      "Computing 42.png (38 / 100)\n",
      "Computing 43.png (39 / 100)\n",
      "Computing 44.png (40 / 100)\n",
      "Computing 45.png (41 / 100)\n",
      "Computing 46.png (42 / 100)\n",
      "Computing 47.png (43 / 100)\n",
      "Computing 48.png (44 / 100)\n",
      "Computing 49.png (45 / 100)\n",
      "Computing 5.png (46 / 100)\n",
      "Computing 50.png (47 / 100)\n",
      "Computing 51.png (48 / 100)\n",
      "Computing 52.png (49 / 100)\n",
      "Computing 53.png (50 / 100)\n",
      "Computing 54.png (51 / 100)\n",
      "Computing 55.png (52 / 100)\n",
      "Computing 56.png (53 / 100)\n",
      "Computing 57.png (54 / 100)\n",
      "Computing 58.png (55 / 100)\n",
      "Computing 59.png (56 / 100)\n",
      "Computing 6.png (57 / 100)\n",
      "Computing 60.png (58 / 100)\n",
      "Computing 61.png (59 / 100)\n",
      "Computing 62.png (60 / 100)\n",
      "Computing 63.png (61 / 100)\n",
      "Computing 64.png (62 / 100)\n",
      "Computing 65.png (63 / 100)\n",
      "Computing 66.png (64 / 100)\n",
      "Computing 67.png (65 / 100)\n",
      "Computing 68.png (66 / 100)\n",
      "Computing 69.png (67 / 100)\n",
      "Computing 7.png (68 / 100)\n",
      "Computing 70.png (69 / 100)\n",
      "Computing 71.png (70 / 100)\n",
      "Computing 72.png (71 / 100)\n",
      "Computing 73.png (72 / 100)\n",
      "Computing 74.png (73 / 100)\n",
      "Computing 75.png (74 / 100)\n",
      "Computing 76.png (75 / 100)\n",
      "Computing 77.png (76 / 100)\n",
      "Computing 78.png (77 / 100)\n",
      "Computing 79.png (78 / 100)\n",
      "Computing 8.png (79 / 100)\n",
      "Computing 80.png (80 / 100)\n",
      "Computing 81.png (81 / 100)\n",
      "Computing 82.png (82 / 100)\n",
      "Computing 83.png (83 / 100)\n",
      "Computing 84.png (84 / 100)\n",
      "Computing 85.png (85 / 100)\n",
      "Computing 86.png (86 / 100)\n",
      "Computing 87.png (87 / 100)\n",
      "Computing 88.png (88 / 100)\n",
      "Computing 89.png (89 / 100)\n",
      "Computing 9.png (90 / 100)\n",
      "Computing 90.png (91 / 100)\n",
      "Computing 91.png (92 / 100)\n",
      "Computing 92.png (93 / 100)\n",
      "Computing 93.png (94 / 100)\n",
      "Computing 94.png (95 / 100)\n",
      "Computing 95.png (96 / 100)\n",
      "Computing 96.png (97 / 100)\n",
      "Computing 97.png (98 / 100)\n",
      "Computing 98.png (99 / 100)\n",
      "Computing 99.png (100 / 100)\n"
     ]
    }
   ],
   "source": [
    "uncropped_kpd_cache = {}\n",
    "print(\"Building cache...\")\n",
    "uncropped_list = os.listdir(\"./test/uncropped/\")\n",
    "for i, uncropped_file_name in enumerate(uncropped_list):\n",
    "    print(f\"Computing {uncropped_file_name} ({i + 1} / {len(uncropped_list)})\")\n",
    "    uncropped = cv2.imread(f\"./test/uncropped/{uncropped_file_name}\")\n",
    "    uncropped_keypoints, uncropped_descriptors = sift.detectAndCompute(uncropped, None)\n",
    "    uncropped_kpd_cache[uncropped_file_name] = (uncropped_keypoints, uncropped_descriptors)\n",
    "    del uncropped"
   ]
  },
  {
   "cell_type": "code",
   "execution_count": 10,
   "metadata": {},
   "outputs": [
    {
     "data": {
      "text/plain": [
       "array([[  6.,   0.,   0., ...,   0.,   0.,   2.],\n",
       "       [ 37.,  19.,   3., ...,   0.,   0.,   0.],\n",
       "       [  0.,  11., 133., ...,   0.,   0.,   0.],\n",
       "       ...,\n",
       "       [ 28.,  40.,  20., ...,   0.,   0.,   1.],\n",
       "       [  0.,   0.,   0., ...,   1.,   3.,   5.],\n",
       "       [  0.,   1.,  99., ...,   0.,   0.,   0.]], dtype=float32)"
      ]
     },
     "execution_count": 10,
     "metadata": {},
     "output_type": "execute_result"
    }
   ],
   "source": [
    "uncropped_kpd_cache['99.png'][1]"
   ]
  },
  {
   "cell_type": "code",
   "execution_count": 5,
   "metadata": {},
   "outputs": [],
   "source": [
    "def get_uncropped_from_cropped(cropped):\n",
    "    cropped_keypoints, cropped_descriptors = sift.detectAndCompute(cropped, None)\n",
    "    closest_match = (None, None, None)\n",
    "    for uncropped_file_name in os.listdir(\"./test/uncropped/\"):\n",
    "        #print(f\"- checking {uncropped_file_name}\")\n",
    "        uncropped = cv2.imread(f\"./test/uncropped/{uncropped_file_name}\")\n",
    "        uncropped_keypoints, uncropped_descriptors = uncropped_kpd_cache[uncropped_file_name] #sift.detectAndCompute(uncropped, None)\n",
    "        matches = flann.knnMatch(cropped_descriptors, uncropped_descriptors, k=2)\n",
    "        good = []\n",
    "        for m, n in matches:\n",
    "            if m.distance < 0.7 * n.distance:\n",
    "                good.append(m)\n",
    "        #print(f\"- has {len(good)} good matches\")\n",
    "        if len(good) < 4:\n",
    "            continue\n",
    "        uncropped_points = np.float32([uncropped_keypoints[m.trainIdx].pt for m in good])\n",
    "        cropped_points = np.float32([cropped_keypoints[m.queryIdx].pt for m in good])\n",
    "        M = cv2.findHomography(cropped_points, uncropped_points, cv2.RANSAC, 5.0)[0]\n",
    "        if M is not None:\n",
    "            dst = cv2.warpPerspective(uncropped, M, (cropped.shape[1], cropped.shape[0]), flags=cv2.WARP_INVERSE_MAP)\n",
    "            diff = np.average(dst.astype(float) - cropped)\n",
    "            diff = abs(diff)\n",
    "            #print(f\"- diff: {diff}\")\n",
    "            if (not closest_match[0]) or closest_match[2] > diff:\n",
    "                closest_match = (uncropped_file_name, M, diff)\n",
    "                if diff == 0.0:\n",
    "                    break\n",
    "    return closest_match"
   ]
  },
  {
   "cell_type": "code",
   "execution_count": 6,
   "metadata": {},
   "outputs": [
    {
     "name": "stdout",
     "output_type": "stream",
     "text": [
      "Testing 0.png\n",
      "Tested 0.png. Got 0.png. M = [[1.00013340e+00 3.41072388e-05 3.53599961e+03]\n",
      " [6.03075892e-05 1.00002114e+00 1.59599948e+03]\n",
      " [3.55987168e-08 9.03405709e-09 1.00000000e+00]]. Avg diff = 0.0\n",
      "Testing 1.png\n",
      "Tested 1.png. Got 1.png. M = [[ 9.99903382e-01  7.56534668e-05  5.14000240e+02]\n",
      " [-7.15325378e-05  1.00007568e+00  2.96998814e+02]\n",
      " [-1.42689071e-07  1.45286184e-07  1.00000000e+00]]. Avg diff = 0.0\n",
      "Testing 10.png\n",
      "Tested 10.png. Got 10.png. M = [[ 9.98009360e-01 -1.38242071e-04  1.29801605e+03]\n",
      " [-2.47682007e-04  9.99899446e-01  2.50151179e+01]\n",
      " [-1.34033498e-06  1.21287553e-07  1.00000000e+00]]. Avg diff = 0.0\n",
      "Testing 11.png\n"
     ]
    },
    {
     "ename": "KeyboardInterrupt",
     "evalue": "",
     "output_type": "error",
     "traceback": [
      "\u001b[1;31m---------------------------------------------------------------------------\u001b[0m",
      "\u001b[1;31mKeyboardInterrupt\u001b[0m                         Traceback (most recent call last)",
      "\u001b[1;32m<ipython-input-6-2ebc9b7bb9e1>\u001b[0m in \u001b[0;36m<module>\u001b[1;34m\u001b[0m\n\u001b[0;32m      2\u001b[0m     \u001b[0mcropped_img\u001b[0m \u001b[1;33m=\u001b[0m \u001b[0mcv2\u001b[0m\u001b[1;33m.\u001b[0m\u001b[0mimread\u001b[0m\u001b[1;33m(\u001b[0m\u001b[1;34mf\"./test/cropped/{cropped}\"\u001b[0m\u001b[1;33m)\u001b[0m\u001b[1;33m\u001b[0m\u001b[1;33m\u001b[0m\u001b[0m\n\u001b[0;32m      3\u001b[0m     \u001b[0mprint\u001b[0m\u001b[1;33m(\u001b[0m\u001b[1;34mf\"Testing {cropped}\"\u001b[0m\u001b[1;33m)\u001b[0m\u001b[1;33m\u001b[0m\u001b[1;33m\u001b[0m\u001b[0m\n\u001b[1;32m----> 4\u001b[1;33m     \u001b[1;33m(\u001b[0m\u001b[0muncropped_file_name\u001b[0m\u001b[1;33m,\u001b[0m \u001b[0mM\u001b[0m\u001b[1;33m,\u001b[0m \u001b[0mdiff\u001b[0m\u001b[1;33m)\u001b[0m \u001b[1;33m=\u001b[0m \u001b[0mget_uncropped_from_cropped\u001b[0m\u001b[1;33m(\u001b[0m\u001b[0mcropped_img\u001b[0m\u001b[1;33m)\u001b[0m\u001b[1;33m\u001b[0m\u001b[1;33m\u001b[0m\u001b[0m\n\u001b[0m\u001b[0;32m      5\u001b[0m     \u001b[0mprint\u001b[0m\u001b[1;33m(\u001b[0m\u001b[1;34mf\"Tested {cropped}. Got {uncropped_file_name}. M = {M}. Avg diff = {diff}\"\u001b[0m\u001b[1;33m)\u001b[0m\u001b[1;33m\u001b[0m\u001b[1;33m\u001b[0m\u001b[0m\n",
      "\u001b[1;32m<ipython-input-5-77b54c199380>\u001b[0m in \u001b[0;36mget_uncropped_from_cropped\u001b[1;34m(cropped)\u001b[0m\n\u001b[0;32m      6\u001b[0m         \u001b[0muncropped\u001b[0m \u001b[1;33m=\u001b[0m \u001b[0mcv2\u001b[0m\u001b[1;33m.\u001b[0m\u001b[0mimread\u001b[0m\u001b[1;33m(\u001b[0m\u001b[1;34mf\"./test/uncropped/{uncropped_file_name}\"\u001b[0m\u001b[1;33m)\u001b[0m\u001b[1;33m\u001b[0m\u001b[1;33m\u001b[0m\u001b[0m\n\u001b[0;32m      7\u001b[0m         \u001b[0muncropped_keypoints\u001b[0m\u001b[1;33m,\u001b[0m \u001b[0muncropped_descriptors\u001b[0m \u001b[1;33m=\u001b[0m \u001b[0muncropped_kpd_cache\u001b[0m\u001b[1;33m[\u001b[0m\u001b[0muncropped_file_name\u001b[0m\u001b[1;33m]\u001b[0m \u001b[1;31m#sift.detectAndCompute(uncropped, None)\u001b[0m\u001b[1;33m\u001b[0m\u001b[1;33m\u001b[0m\u001b[0m\n\u001b[1;32m----> 8\u001b[1;33m         \u001b[0mmatches\u001b[0m \u001b[1;33m=\u001b[0m \u001b[0mflann\u001b[0m\u001b[1;33m.\u001b[0m\u001b[0mknnMatch\u001b[0m\u001b[1;33m(\u001b[0m\u001b[0mcropped_descriptors\u001b[0m\u001b[1;33m,\u001b[0m \u001b[0muncropped_descriptors\u001b[0m\u001b[1;33m,\u001b[0m \u001b[0mk\u001b[0m\u001b[1;33m=\u001b[0m\u001b[1;36m2\u001b[0m\u001b[1;33m)\u001b[0m\u001b[1;33m\u001b[0m\u001b[1;33m\u001b[0m\u001b[0m\n\u001b[0m\u001b[0;32m      9\u001b[0m         \u001b[0mgood\u001b[0m \u001b[1;33m=\u001b[0m \u001b[1;33m[\u001b[0m\u001b[1;33m]\u001b[0m\u001b[1;33m\u001b[0m\u001b[1;33m\u001b[0m\u001b[0m\n\u001b[0;32m     10\u001b[0m         \u001b[1;32mfor\u001b[0m \u001b[0mm\u001b[0m\u001b[1;33m,\u001b[0m \u001b[0mn\u001b[0m \u001b[1;32min\u001b[0m \u001b[0mmatches\u001b[0m\u001b[1;33m:\u001b[0m\u001b[1;33m\u001b[0m\u001b[1;33m\u001b[0m\u001b[0m\n",
      "\u001b[1;31mKeyboardInterrupt\u001b[0m: "
     ]
    }
   ],
   "source": [
    "for cropped in os.listdir(\"./test/cropped/\"):\n",
    "    cropped_img = cv2.imread(f\"./test/cropped/{cropped}\")\n",
    "    print(f\"Testing {cropped}\")\n",
    "    (uncropped_file_name, M, diff) = get_uncropped_from_cropped(cropped_img)\n",
    "    print(f\"Tested {cropped}. Got {uncropped_file_name}. M = {M}. Avg diff = {diff}\")"
   ]
  },
  {
   "cell_type": "code",
   "execution_count": null,
   "metadata": {},
   "outputs": [],
   "source": []
  }
 ],
 "metadata": {
  "kernelspec": {
   "display_name": "Python 3",
   "language": "python",
   "name": "python3"
  },
  "language_info": {
   "codemirror_mode": {
    "name": "ipython",
    "version": 3
   },
   "file_extension": ".py",
   "mimetype": "text/x-python",
   "name": "python",
   "nbconvert_exporter": "python",
   "pygments_lexer": "ipython3",
   "version": "3.7.8"
  }
 },
 "nbformat": 4,
 "nbformat_minor": 4
}
