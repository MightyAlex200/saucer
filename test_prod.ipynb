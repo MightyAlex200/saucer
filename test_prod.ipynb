{
 "cells": [
  {
   "cell_type": "code",
   "execution_count": 1,
   "metadata": {},
   "outputs": [],
   "source": [
    "import cv2\n",
    "import json\n",
    "import os\n",
    "from keypoint_serialization import *\n",
    "import numpy as np"
   ]
  },
  {
   "cell_type": "code",
   "execution_count": 2,
   "metadata": {},
   "outputs": [],
   "source": [
    "sift = cv2.xfeatures2d.SIFT_create()"
   ]
  },
  {
   "cell_type": "code",
   "execution_count": 3,
   "metadata": {},
   "outputs": [],
   "source": [
    "FLANN_INDEX_KDTREE = 0\n",
    "index_params = dict(algorithm=FLANN_INDEX_KDTREE, trees=5)\n",
    "search_params = dict(checks=50)\n",
    "\n",
    "flann = cv2.FlannBasedMatcher(index_params, search_params)"
   ]
  },
  {
   "cell_type": "code",
   "execution_count": 4,
   "metadata": {},
   "outputs": [],
   "source": [
    "def get_kpd(file_name):\n",
    "    with open(f\"./prod/kpd_cache/{file_name[0:2]}/{file_name}\", \"r\") as f:\n",
    "        kpd = json.load(f)\n",
    "    kpd = ([deserialize_kp(kp) for kp in kpd[0]], np.array(kpd[1]).astype(np.float32))\n",
    "    return kpd"
   ]
  },
  {
   "cell_type": "code",
   "execution_count": 5,
   "metadata": {},
   "outputs": [],
   "source": [
    "def get_uncropped_from_cropped(cropped):\n",
    "    cropped_keypoints, cropped_descriptors = sift.detectAndCompute(cropped, None)\n",
    "    closest_match = (None, None, None)\n",
    "    for subdir in os.listdir(\"./prod/kpd_cache/\"):\n",
    "        for uncropped_file_name in os.listdir(\"./prod/kpd_cache/\" + subdir):\n",
    "            uncropped_keypoints, uncropped_descriptors = get_kpd(uncropped_file_name)\n",
    "            matches = flann.knnMatch(cropped_descriptors, uncropped_descriptors, k=2)\n",
    "            print(matches)\n",
    "            good = []\n",
    "            for m, n in matches:\n",
    "                if m.distance < 0.7 * n.distance:\n",
    "                    good.append(m)\n",
    "            uncropped_points = np.float32([uncropped_keypoints[m.trainIdx].pt for m in good])\n",
    "            cropped_points = np.float32([cropped_keypoints[m.queryIdx].pt for m in good])\n",
    "            M = cv2.findHomography(cropped_points, uncropped_points, cv2.RANSAC, 5.0)[0]\n",
    "            if M is not None:\n",
    "                uncropped = cv2.imread(\"./prod/sources/\" + uncropped_file_name[0:-4])\n",
    "                dst = cv2.warpPerspective(uncropped, M, (cropped.shape[1], cropped.shape[0]), flags=cv2.WARP_INVERSE_MAP)\n",
    "                diff = np.average(dst.astype(float) - cropped)\n",
    "                diff = abs(diff)\n",
    "                #print(f\"- diff: {diff}\")\n",
    "                if (not closest_match[0]) or closest_match[2] > diff:\n",
    "                    closest_match = (uncropped_file_name, M, diff)\n",
    "                    if diff == 0.0:\n",
    "                        return closest_match\n",
    "    return closest_match"
   ]
  },
  {
   "cell_type": "code",
   "execution_count": 11,
   "metadata": {},
   "outputs": [],
   "source": [
    "import threading\n",
    "# Parallelized\n",
    "def get_uncropped_from_cropped(cropped):\n",
    "    cropped_keypoints, cropped_descriptors = sift.detectAndCompute(cropped, None)\n",
    "    threads = []\n",
    "    gmatches = []\n",
    "    def determine_match(uncropped_file_name):\n",
    "        uncropped_keypoints, uncropped_descriptors = get_kpd(uncropped_file_name)\n",
    "        matches = flann.knnMatch(cropped_descriptors, uncropped_descriptors, k=2)\n",
    "        good = []\n",
    "        for m, n in matches:\n",
    "            if m.distance < 0.7 * n.distance:\n",
    "                good.append(m)\n",
    "        uncropped_points = np.float32([uncropped_keypoints[m.trainIdx].pt for m in good])\n",
    "        cropped_points = np.float32([cropped_keypoints[m.queryIdx].pt for m in good])\n",
    "        if len(cropped_points) == 0 or len(uncropped_points) == 0:\n",
    "            return\n",
    "        M = cv2.findHomography(cropped_points, uncropped_points, cv2.RANSAC, 5.0)[0]\n",
    "        if M is not None:\n",
    "            uncropped = cv2.imread(\"./prod/sources/\" + uncropped_file_name[0:2] + \"/\" + uncropped_file_name[0:-5])\n",
    "            dst = cv2.warpPerspective(uncropped, M, (cropped.shape[1], cropped.shape[0]), flags=cv2.WARP_INVERSE_MAP)\n",
    "            diff = np.average(np.abs(dst.astype(float) - cropped.astype(float)))\n",
    "            match = (uncropped_file_name, M, diff)\n",
    "            gmatches.append(match)\n",
    "    for subdir in os.listdir(\"./prod/kpd_cache/\"):\n",
    "        for uncropped_file_name in os.listdir(\"./prod/kpd_cache/\" + subdir):\n",
    "            t = threading.Thread(target=determine_match, args=(uncropped_file_name,))\n",
    "            threads.append(t)\n",
    "    BATCH_SIZE = 48\n",
    "    while threads:\n",
    "        for i in range(BATCH_SIZE):\n",
    "            if len(threads) > i:\n",
    "                threads[i].start()\n",
    "        for i in range(BATCH_SIZE):\n",
    "            if len(threads) > i:\n",
    "                threads[i].join()\n",
    "        del threads[0:BATCH_SIZE]\n",
    "    closest_match = (None, None, None)\n",
    "    for match in gmatches:\n",
    "        if match[2] == 0:\n",
    "            return match\n",
    "        if (closest_match[2] is None) or match[2] < closest_match[2]:\n",
    "            closest_match = match\n",
    "    return closest_match"
   ]
  },
  {
   "cell_type": "code",
   "execution_count": 6,
   "metadata": {},
   "outputs": [],
   "source": [
    "cropped = cv2.imread(\"cropped.png\")"
   ]
  },
  {
   "cell_type": "code",
   "execution_count": 7,
   "metadata": {},
   "outputs": [
    {
     "name": "stdout",
     "output_type": "stream",
     "text": [
      "[[<DMatch 0000022668761B30>, <DMatch 00000226520C15F0>], [<DMatch 000002266A3815D0>, <DMatch 000002266A381610>], [<DMatch 000002266A3815B0>, <DMatch 000002266A381650>], [<DMatch 000002266A381590>, <DMatch 000002266A3815F0>], [<DMatch 000002266A381750>, <DMatch 000002266A381730>], [<DMatch 000002266A3816F0>, <DMatch 000002266A3816D0>], [<DMatch 000002266A381710>, <DMatch 000002266A3816B0>], [<DMatch 000002266A381690>, <DMatch 000002266A381830>], [<DMatch 000002266A381810>, <DMatch 000002266A3817D0>], [<DMatch 000002266A3817B0>, <DMatch 000002266A3817F0>], [<DMatch 000002266A381790>, <DMatch 000002266A381770>], [<DMatch 000002266A381910>, <DMatch 000002266A3818F0>], [<DMatch 000002266A3818B0>, <DMatch 000002266A381890>], [<DMatch 000002266A3818D0>, <DMatch 000002266A381870>], [<DMatch 000002266A381850>, <DMatch 000002266A3819F0>], [<DMatch 000002266A3819D0>, <DMatch 000002266A381990>], [<DMatch 000002266A381970>, <DMatch 000002266A3819B0>], [<DMatch 000002266A381950>, <DMatch 000002266A381930>], [<DMatch 000002266A381AB0>, <DMatch 000002266A381A90>], [<DMatch 000002266A381A50>, <DMatch 000002266A381A30>], [<DMatch 000002266A381A70>, <DMatch 000002266A381A10>], [<DMatch 000002266A381670>, <DMatch 000002266A381B90>], [<DMatch 000002266A381B70>, <DMatch 000002266A381B30>], [<DMatch 000002266A381B10>, <DMatch 000002266A381B50>], [<DMatch 000002266A381AF0>, <DMatch 000002266A381AD0>], [<DMatch 000002266A381C70>, <DMatch 000002266A381C50>], [<DMatch 000002266A381C10>, <DMatch 000002266A381BF0>], [<DMatch 000002266A381C30>, <DMatch 000002266A381BD0>], [<DMatch 000002266A381BB0>, <DMatch 000002266A381D50>], [<DMatch 000002266A381D30>, <DMatch 000002266A381CF0>], [<DMatch 000002266A381CD0>, <DMatch 000002266A381D10>], [<DMatch 000002266A381CB0>, <DMatch 000002266A381C90>], [<DMatch 000002266A381E30>, <DMatch 000002266A381E10>], [<DMatch 000002266A381DD0>, <DMatch 000002266A381DB0>], [<DMatch 000002266A381DF0>, <DMatch 000002266A381D90>], [<DMatch 000002266A381D70>, <DMatch 000002266A381F10>], [<DMatch 000002266A381EF0>, <DMatch 000002266A381EB0>], [<DMatch 000002266A381E90>, <DMatch 000002266A381ED0>], [<DMatch 000002266A381E70>, <DMatch 000002266A381E50>], [<DMatch 000002266A381FD0>, <DMatch 000002266A381F90>], [<DMatch 000002266A381F70>, <DMatch 000002266A381FB0>], [<DMatch 000002266A381F50>, <DMatch 000002266A381F30>], [<DMatch 000002266A381190>, <DMatch 000002266A381570>], [<DMatch 000002266BE29030>, <DMatch 000002266BE29050>], [<DMatch 000002266BE29070>, <DMatch 000002266BE29090>], [<DMatch 000002266BE290B0>, <DMatch 000002266BE290D0>], [<DMatch 000002266BE290F0>, <DMatch 000002266BE29110>], [<DMatch 000002266BE29130>, <DMatch 000002266BE29150>], [<DMatch 000002266BE29170>, <DMatch 000002266BE29190>], [<DMatch 000002266BE291B0>, <DMatch 000002266BE291D0>], [<DMatch 000002266BE291F0>, <DMatch 000002266BE29210>], [<DMatch 000002266BE29230>, <DMatch 000002266BE29250>], [<DMatch 000002266BE29270>, <DMatch 000002266BE29290>], [<DMatch 000002266BE292B0>, <DMatch 000002266BE292D0>], [<DMatch 000002266BE29F90>, <DMatch 000002266BE29F70>], [<DMatch 000002266BE29FB0>, <DMatch 000002266BE29FD0>], [<DMatch 000002266BE20030>, <DMatch 000002266BE20050>], [<DMatch 000002266BE20070>, <DMatch 000002266BE20090>], [<DMatch 000002266BE200B0>, <DMatch 000002266BE200D0>], [<DMatch 000002266BE200F0>, <DMatch 000002266BE20110>], [<DMatch 000002266BE20130>, <DMatch 000002266BE20150>], [<DMatch 000002266BE20170>, <DMatch 000002266BE20190>], [<DMatch 000002266BE201B0>, <DMatch 000002266BE201D0>], [<DMatch 000002266BE201F0>, <DMatch 000002266BE20210>], [<DMatch 000002266BE20230>, <DMatch 000002266BE20250>], [<DMatch 000002266BE20270>, <DMatch 000002266BE20290>], [<DMatch 000002266BE202B0>, <DMatch 000002266BE202D0>], [<DMatch 000002266BE202F0>, <DMatch 000002266BE20310>], [<DMatch 000002266BE20330>, <DMatch 000002266BE20350>], [<DMatch 000002266BE20370>, <DMatch 000002266BE20390>], [<DMatch 000002266BE203B0>, <DMatch 000002266BE203D0>], [<DMatch 000002266BE203F0>, <DMatch 000002266BE20410>], [<DMatch 000002266BE20430>, <DMatch 000002266BE20450>], [<DMatch 000002266BE20470>, <DMatch 000002266BE20490>], [<DMatch 000002266BE204B0>, <DMatch 000002266BE204D0>], [<DMatch 000002266BE204F0>, <DMatch 000002266BE20510>], [<DMatch 000002266BE20530>, <DMatch 000002266BE20550>], [<DMatch 000002266BE20570>, <DMatch 000002266BE20590>], [<DMatch 000002266BE205B0>, <DMatch 000002266BE205D0>], [<DMatch 000002266BE205F0>, <DMatch 000002266BE20610>], [<DMatch 000002266BE20630>, <DMatch 000002266BE20650>], [<DMatch 000002266BE20670>, <DMatch 000002266BE20690>], [<DMatch 000002266BE206B0>, <DMatch 000002266BE206D0>], [<DMatch 000002266BE206F0>, <DMatch 000002266BE20710>], [<DMatch 000002266BE20730>, <DMatch 000002266BE20750>], [<DMatch 000002266BE20770>, <DMatch 000002266BE20790>], [<DMatch 000002266BE207B0>, <DMatch 000002266BE207D0>], [<DMatch 000002266BE207F0>, <DMatch 000002266BE20810>], [<DMatch 000002266BE20830>, <DMatch 000002266BE20850>], [<DMatch 000002266BE20870>, <DMatch 000002266BE20890>], [<DMatch 000002266BE208B0>, <DMatch 000002266BE208D0>], [<DMatch 000002266BE208F0>, <DMatch 000002266BE20910>], [<DMatch 000002266BE20930>, <DMatch 000002266BE20950>], [<DMatch 000002266BE20970>, <DMatch 000002266BE20990>], [<DMatch 000002266BE209B0>, <DMatch 000002266BE209D0>], [<DMatch 000002266BE209F0>, <DMatch 000002266BE20A10>], [<DMatch 000002266BE20A30>, <DMatch 000002266BE20A50>], [<DMatch 000002266BE20A70>, <DMatch 000002266BE20A90>], [<DMatch 000002266BE20AB0>, <DMatch 000002266BE20AD0>], [<DMatch 000002266BE20AF0>, <DMatch 000002266BE20B10>], [<DMatch 000002266BE20B30>, <DMatch 000002266BE20B50>], [<DMatch 000002266BE20B70>, <DMatch 000002266BE20B90>], [<DMatch 000002266BE20BB0>, <DMatch 000002266BE20BD0>], [<DMatch 000002266BE20BF0>, <DMatch 000002266BE20C10>], [<DMatch 000002266BE20C30>, <DMatch 000002266BE20C50>], [<DMatch 000002266BE20C70>, <DMatch 000002266BE20C90>], [<DMatch 000002266BE20CB0>, <DMatch 000002266BE20CD0>], [<DMatch 000002266BE20CF0>, <DMatch 000002266BE20D10>], [<DMatch 000002266BE20D30>, <DMatch 000002266BE20D70>], [<DMatch 000002266BE20D90>, <DMatch 000002266BE20DB0>], [<DMatch 000002266BE20DD0>, <DMatch 000002266BE20D50>], [<DMatch 000002266BE20DF0>, <DMatch 000002266BE20E10>], [<DMatch 000002266BE20E30>, <DMatch 000002266BE20E50>], [<DMatch 000002266BE20E70>, <DMatch 000002266BE20E90>], [<DMatch 000002266BE20EB0>, <DMatch 000002266BE20ED0>], [<DMatch 000002266BE20EF0>, <DMatch 000002266BE20F10>], [<DMatch 000002266BE20F30>, <DMatch 000002266BE20F50>], [<DMatch 000002266BE20F70>, <DMatch 000002266BE20F90>], [<DMatch 000002266BE20FB0>, <DMatch 000002266BE20FD0>], [<DMatch 000002266BE22030>, <DMatch 000002266BE22050>], [<DMatch 000002266BE22070>, <DMatch 000002266BE22090>], [<DMatch 000002266BE220B0>, <DMatch 000002266BE220D0>], [<DMatch 000002266BE220F0>, <DMatch 000002266BE22110>], [<DMatch 000002266BE22130>, <DMatch 000002266BE22150>], [<DMatch 000002266BE22170>, <DMatch 000002266BE22190>], [<DMatch 000002266BE221B0>, <DMatch 000002266BE221D0>], [<DMatch 000002266BE221F0>, <DMatch 000002266BE22210>], [<DMatch 000002266BE22230>, <DMatch 000002266BE22250>], [<DMatch 000002266BE22270>, <DMatch 000002266BE22290>], [<DMatch 000002266BE222B0>, <DMatch 000002266BE222D0>], [<DMatch 000002266BE222F0>, <DMatch 000002266BE22310>], [<DMatch 000002266BE22330>, <DMatch 000002266BE22350>], [<DMatch 000002266BE22370>, <DMatch 000002266BE22390>], [<DMatch 000002266BE223B0>, <DMatch 000002266BE223D0>], [<DMatch 000002266BE223F0>, <DMatch 000002266BE22410>], [<DMatch 000002266BE22430>, <DMatch 000002266BE22450>], [<DMatch 000002266BE22470>, <DMatch 000002266BE22490>], [<DMatch 000002266BE224B0>, <DMatch 000002266BE224D0>], [<DMatch 000002266BE224F0>, <DMatch 000002266BE22510>], [<DMatch 000002266BE22530>, <DMatch 000002266BE22550>], [<DMatch 000002266BE22570>, <DMatch 000002266BE22590>], [<DMatch 000002266BE225B0>, <DMatch 000002266BE225D0>], [<DMatch 000002266BE225F0>, <DMatch 000002266BE22610>], [<DMatch 000002266BE22630>, <DMatch 000002266BE22650>], [<DMatch 000002266BE22670>, <DMatch 000002266BE22690>]]\n"
     ]
    },
    {
     "ename": "error",
     "evalue": "OpenCV(4.3.0) C:\\opencv\\opencv\\modules\\calib3d\\src\\fundam.cpp:372: error: (-5:Bad argument) The input arrays should be 2D or 3D point sets in function 'cv::findHomography'\n",
     "output_type": "error",
     "traceback": [
      "\u001b[1;31m---------------------------------------------------------------------------\u001b[0m",
      "\u001b[1;31merror\u001b[0m                                     Traceback (most recent call last)",
      "\u001b[1;32m<ipython-input-7-31017f902c43>\u001b[0m in \u001b[0;36m<module>\u001b[1;34m\u001b[0m\n\u001b[0;32m      2\u001b[0m \u001b[1;32mfrom\u001b[0m \u001b[0mmatplotlib\u001b[0m \u001b[1;32mimport\u001b[0m \u001b[0mpyplot\u001b[0m \u001b[1;32mas\u001b[0m \u001b[0mplt\u001b[0m\u001b[1;33m\u001b[0m\u001b[1;33m\u001b[0m\u001b[0m\n\u001b[0;32m      3\u001b[0m \u001b[0mstart\u001b[0m \u001b[1;33m=\u001b[0m \u001b[0mtime\u001b[0m\u001b[1;33m(\u001b[0m\u001b[1;33m)\u001b[0m\u001b[1;33m\u001b[0m\u001b[1;33m\u001b[0m\u001b[0m\n\u001b[1;32m----> 4\u001b[1;33m \u001b[0mfilename\u001b[0m\u001b[1;33m,\u001b[0m \u001b[0mM\u001b[0m\u001b[1;33m,\u001b[0m \u001b[0mdiff\u001b[0m \u001b[1;33m=\u001b[0m \u001b[0mget_uncropped_from_cropped\u001b[0m\u001b[1;33m(\u001b[0m\u001b[0mcropped\u001b[0m\u001b[1;33m)\u001b[0m\u001b[1;33m\u001b[0m\u001b[1;33m\u001b[0m\u001b[0m\n\u001b[0m\u001b[0;32m      5\u001b[0m \u001b[0mend\u001b[0m \u001b[1;33m=\u001b[0m \u001b[0mtime\u001b[0m\u001b[1;33m(\u001b[0m\u001b[1;33m)\u001b[0m\u001b[1;33m\u001b[0m\u001b[1;33m\u001b[0m\u001b[0m\n\u001b[0;32m      6\u001b[0m \u001b[0mtime_taken\u001b[0m \u001b[1;33m=\u001b[0m \u001b[0mend\u001b[0m \u001b[1;33m-\u001b[0m \u001b[0mstart\u001b[0m\u001b[1;33m\u001b[0m\u001b[1;33m\u001b[0m\u001b[0m\n",
      "\u001b[1;32m<ipython-input-5-4f127ab72340>\u001b[0m in \u001b[0;36mget_uncropped_from_cropped\u001b[1;34m(cropped)\u001b[0m\n\u001b[0;32m     13\u001b[0m             \u001b[0muncropped_points\u001b[0m \u001b[1;33m=\u001b[0m \u001b[0mnp\u001b[0m\u001b[1;33m.\u001b[0m\u001b[0mfloat32\u001b[0m\u001b[1;33m(\u001b[0m\u001b[1;33m[\u001b[0m\u001b[0muncropped_keypoints\u001b[0m\u001b[1;33m[\u001b[0m\u001b[0mm\u001b[0m\u001b[1;33m.\u001b[0m\u001b[0mtrainIdx\u001b[0m\u001b[1;33m]\u001b[0m\u001b[1;33m.\u001b[0m\u001b[0mpt\u001b[0m \u001b[1;32mfor\u001b[0m \u001b[0mm\u001b[0m \u001b[1;32min\u001b[0m \u001b[0mgood\u001b[0m\u001b[1;33m]\u001b[0m\u001b[1;33m)\u001b[0m\u001b[1;33m\u001b[0m\u001b[1;33m\u001b[0m\u001b[0m\n\u001b[0;32m     14\u001b[0m             \u001b[0mcropped_points\u001b[0m \u001b[1;33m=\u001b[0m \u001b[0mnp\u001b[0m\u001b[1;33m.\u001b[0m\u001b[0mfloat32\u001b[0m\u001b[1;33m(\u001b[0m\u001b[1;33m[\u001b[0m\u001b[0mcropped_keypoints\u001b[0m\u001b[1;33m[\u001b[0m\u001b[0mm\u001b[0m\u001b[1;33m.\u001b[0m\u001b[0mqueryIdx\u001b[0m\u001b[1;33m]\u001b[0m\u001b[1;33m.\u001b[0m\u001b[0mpt\u001b[0m \u001b[1;32mfor\u001b[0m \u001b[0mm\u001b[0m \u001b[1;32min\u001b[0m \u001b[0mgood\u001b[0m\u001b[1;33m]\u001b[0m\u001b[1;33m)\u001b[0m\u001b[1;33m\u001b[0m\u001b[1;33m\u001b[0m\u001b[0m\n\u001b[1;32m---> 15\u001b[1;33m             \u001b[0mM\u001b[0m \u001b[1;33m=\u001b[0m \u001b[0mcv2\u001b[0m\u001b[1;33m.\u001b[0m\u001b[0mfindHomography\u001b[0m\u001b[1;33m(\u001b[0m\u001b[0mcropped_points\u001b[0m\u001b[1;33m,\u001b[0m \u001b[0muncropped_points\u001b[0m\u001b[1;33m,\u001b[0m \u001b[0mcv2\u001b[0m\u001b[1;33m.\u001b[0m\u001b[0mRANSAC\u001b[0m\u001b[1;33m,\u001b[0m \u001b[1;36m5.0\u001b[0m\u001b[1;33m)\u001b[0m\u001b[1;33m[\u001b[0m\u001b[1;36m0\u001b[0m\u001b[1;33m]\u001b[0m\u001b[1;33m\u001b[0m\u001b[1;33m\u001b[0m\u001b[0m\n\u001b[0m\u001b[0;32m     16\u001b[0m             \u001b[1;32mif\u001b[0m \u001b[0mM\u001b[0m \u001b[1;32mis\u001b[0m \u001b[1;32mnot\u001b[0m \u001b[1;32mNone\u001b[0m\u001b[1;33m:\u001b[0m\u001b[1;33m\u001b[0m\u001b[1;33m\u001b[0m\u001b[0m\n\u001b[0;32m     17\u001b[0m                 \u001b[0muncropped\u001b[0m \u001b[1;33m=\u001b[0m \u001b[0mcv2\u001b[0m\u001b[1;33m.\u001b[0m\u001b[0mimread\u001b[0m\u001b[1;33m(\u001b[0m\u001b[1;34m\"./prod/sources/\"\u001b[0m \u001b[1;33m+\u001b[0m \u001b[0muncropped_file_name\u001b[0m\u001b[1;33m[\u001b[0m\u001b[1;36m0\u001b[0m\u001b[1;33m:\u001b[0m\u001b[1;33m-\u001b[0m\u001b[1;36m4\u001b[0m\u001b[1;33m]\u001b[0m\u001b[1;33m)\u001b[0m\u001b[1;33m\u001b[0m\u001b[1;33m\u001b[0m\u001b[0m\n",
      "\u001b[1;31merror\u001b[0m: OpenCV(4.3.0) C:\\opencv\\opencv\\modules\\calib3d\\src\\fundam.cpp:372: error: (-5:Bad argument) The input arrays should be 2D or 3D point sets in function 'cv::findHomography'\n"
     ]
    }
   ],
   "source": [
    "from time import time\n",
    "from matplotlib import pyplot as plt\n",
    "start = time()\n",
    "filename, M, diff = get_uncropped_from_cropped(cropped)\n",
    "end = time()\n",
    "time_taken = end - start\n",
    "similarity = (1. - diff / 255.) * 100\n",
    "print(f\"It took me {time_taken} seconds to process that file.\")\n",
    "if filename:\n",
    "    print(f\"I think it is {filename} because a portion of it is {similarity}% similar to your image\")\n",
    "    uncropped = cv2.imread(\"./prod/sources/\" + filename[0:2] + \"/\" + filename[0:-5])\n",
    "    dst = cv2.warpPerspective(uncropped, M, (cropped.shape[1], cropped.shape[0]), flags=cv2.WARP_INVERSE_MAP)\n",
    "    plt.imshow(dst)\n",
    "    plt.show()\n",
    "else:\n",
    "    print(\"Found no results in my database, sorry.\")"
   ]
  },
  {
   "cell_type": "code",
   "execution_count": null,
   "metadata": {},
   "outputs": [],
   "source": []
  }
 ],
 "metadata": {
  "kernelspec": {
   "display_name": "Python 3",
   "language": "python",
   "name": "python3"
  },
  "language_info": {
   "codemirror_mode": {
    "name": "ipython",
    "version": 3
   },
   "file_extension": ".py",
   "mimetype": "text/x-python",
   "name": "python",
   "nbconvert_exporter": "python",
   "pygments_lexer": "ipython3",
   "version": "3.7.8"
  }
 },
 "nbformat": 4,
 "nbformat_minor": 4
}