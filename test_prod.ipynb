{
 "cells": [
  {
   "cell_type": "code",
   "execution_count": 1,
   "metadata": {},
   "outputs": [],
   "source": [
    "import cv2\n",
    "import json\n",
    "import os\n",
    "from keypoint_serialization import *\n",
    "import numpy as np"
   ]
  },
  {
   "cell_type": "code",
   "execution_count": 2,
   "metadata": {},
   "outputs": [],
   "source": [
    "sift = cv2.xfeatures2d.SIFT_create()"
   ]
  },
  {
   "cell_type": "code",
   "execution_count": 3,
   "metadata": {},
   "outputs": [],
   "source": [
    "FLANN_INDEX_KDTREE = 0\n",
    "index_params = dict(algorithm=FLANN_INDEX_KDTREE, trees=5)\n",
    "search_params = dict(checks=50)\n",
    "\n",
    "flann = cv2.FlannBasedMatcher(index_params, search_params)"
   ]
  },
  {
   "cell_type": "code",
   "execution_count": 16,
   "metadata": {},
   "outputs": [],
   "source": [
    "def get_kpd(file_name):\n",
    "    with open(f\"./prod/kpd_cache/{file_name[0:2]}/{file_name}\", \"r\") as f:\n",
    "        kpd = json.load(f)\n",
    "    kpd = ([deserialize_kp(kp) for kp in kpd[0]], np.array(kpd[1]).astype(np.float32))\n",
    "    return kpd"
   ]
  },
  {
   "cell_type": "code",
   "execution_count": 20,
   "metadata": {},
   "outputs": [],
   "source": [
    "def get_uncropped_from_cropped(cropped):\n",
    "    cropped_keypoints, cropped_descriptors = sift.detectAndCompute(cropped, None)\n",
    "    closest_match = (None, None, None)\n",
    "    for subdir in os.listdir(\"./prod/kpd_cache/\"):\n",
    "        for uncropped_file_name in os.listdir(\"./prod/kpd_cache/\" + subdir):\n",
    "            uncropped_keypoints, uncropped_descriptors = get_kpd(uncropped_file_name)\n",
    "            matches = flann.knnMatch(cropped_descriptors, uncropped_descriptors, k=2)\n",
    "            good = []\n",
    "            for m, n in matches:\n",
    "                if m.distance < 0.7 * n.distance:\n",
    "                    good.append(m)\n",
    "            uncropped_points = np.float32([uncropped_keypoints[m.trainIdx].pt for m in good])\n",
    "            cropped_points = np.float32([cropped_keypoints[m.queryIdx].pt for m in good])\n",
    "            M = cv2.findHomography(cropped_points, uncropped_points, cv2.RANSAC, 5.0)[0]\n",
    "            if M is not None:\n",
    "                uncropped = cv2.imread(\"./prod/sources/\" + uncropped_file_name[0:-4])\n",
    "                dst = cv2.warpPerspective(uncropped, M, (cropped.shape[1], cropped.shape[0]), flags=cv2.WARP_INVERSE_MAP)\n",
    "                diff = np.average(dst.astype(float) - cropped)\n",
    "                diff = abs(diff)\n",
    "                #print(f\"- diff: {diff}\")\n",
    "                if (not closest_match[0]) or closest_match[2] > diff:\n",
    "                    closest_match = (uncropped_file_name, M, diff)\n",
    "                    if diff == 0.0:\n",
    "                        return closest_match\n",
    "    return closest_match"
   ]
  },
  {
   "cell_type": "code",
   "execution_count": 21,
   "metadata": {},
   "outputs": [],
   "source": [
    "cropped = cv2.imread(\"cropped.png\")"
   ]
  },
  {
   "cell_type": "code",
   "execution_count": 22,
   "metadata": {},
   "outputs": [
    {
     "data": {
      "text/plain": [
       "('77ca53b430a31026e276957a1aae567a.jpg.json',\n",
       " array([[ 1.00011718e+00, -6.65707399e-05,  2.02000520e+02],\n",
       "        [ 4.10740713e-05,  1.00000753e+00,  5.99899247e+01],\n",
       "        [ 1.12251069e-07, -6.90603442e-08,  1.00000000e+00]]),\n",
       " 0.03677416643279468)"
      ]
     },
     "execution_count": 22,
     "metadata": {},
     "output_type": "execute_result"
    }
   ],
   "source": [
    "get_uncropped_from_cropped(cropped)"
   ]
  },
  {
   "cell_type": "code",
   "execution_count": null,
   "metadata": {},
   "outputs": [],
   "source": []
  }
 ],
 "metadata": {
  "kernelspec": {
   "display_name": "Python 3",
   "language": "python",
   "name": "python3"
  },
  "language_info": {
   "codemirror_mode": {
    "name": "ipython",
    "version": 3
   },
   "file_extension": ".py",
   "mimetype": "text/x-python",
   "name": "python",
   "nbconvert_exporter": "python",
   "pygments_lexer": "ipython3",
   "version": "3.7.8"
  }
 },
 "nbformat": 4,
 "nbformat_minor": 4
}
